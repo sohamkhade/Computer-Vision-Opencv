{
 "cells": [
  {
   "cell_type": "code",
   "execution_count": 2,
   "metadata": {},
   "outputs": [],
   "source": [
    "import cv2 as cv \n",
    "import numpy as np"
   ]
  },
  {
   "cell_type": "code",
   "execution_count": 3,
   "metadata": {},
   "outputs": [],
   "source": [
    "# We point OpenCV's CascadeClassifier function to where our \n",
    "# classifier (XML file format) is stored\n",
    "body_classifier = cv.CascadeClassifier('Haarcascades/haarcascade_fullbody.xml')"
   ]
  },
  {
   "cell_type": "code",
   "execution_count": null,
   "metadata": {},
   "outputs": [],
   "source": [
    "#loading a video through VideoCapture function and passing the path of the video\n",
    "cap = cv.VideoCapture('image_examples/walking.avi')\n",
    "\n",
    "#Checking if the video is running or not\n",
    "while cap.isOpened():\n",
    "    \n",
    "    #reading a frame from the video\n",
    "    ret,frame = cap.read()\n",
    "    #converting it into gray\n",
    "    gray = cv.cvtColor(frame, cv.COLOR_BGR2GRAY)\n",
    "    \n",
    "    # Our classifier returns the ROI of the detected body as a tuple\n",
    "    # It stores the top left coordinate and the bottom right coordiantes\n",
    "    bodies = body_classifier.detectMultiScale(gray, 1.3, 5)\n",
    "    \n",
    "    # For Drawing rectangles on the bodies which in the video\n",
    "    for (x,y,w,h) in bodies:\n",
    "        cv.rectangle(frame, (x,y), (x+w, y+h), (0,255,255), 2)\n",
    "        cv.imshow('Pedestrians', frame)\n",
    "        \n",
    "    if cv.waitKey(1) == 13:\n",
    "        break\n",
    "\n",
    "cap.release()\n",
    "cv.destroyAllWindows()"
   ]
  },
  {
   "cell_type": "code",
   "execution_count": null,
   "metadata": {},
   "outputs": [],
   "source": []
  }
 ],
 "metadata": {
  "kernelspec": {
   "display_name": "Python 3",
   "language": "python",
   "name": "python3"
  },
  "language_info": {
   "codemirror_mode": {
    "name": "ipython",
    "version": 3
   },
   "file_extension": ".py",
   "mimetype": "text/x-python",
   "name": "python",
   "nbconvert_exporter": "python",
   "pygments_lexer": "ipython3",
   "version": "3.8.5"
  }
 },
 "nbformat": 4,
 "nbformat_minor": 4
}
