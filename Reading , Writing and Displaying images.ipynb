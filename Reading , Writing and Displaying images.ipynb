{
 "cells": [
  {
   "cell_type": "code",
   "execution_count": 9,
   "metadata": {},
   "outputs": [],
   "source": [
    "# importing cv2 library \n",
    "import cv2 as cv "
   ]
  },
  {
   "cell_type": "code",
   "execution_count": 10,
   "metadata": {},
   "outputs": [],
   "source": [
    "# importing numpy library \n",
    "import numpy as np"
   ]
  },
  {
   "cell_type": "code",
   "execution_count": 11,
   "metadata": {},
   "outputs": [],
   "source": [
    "#Loading an image using 'imread' function specifying the path\n",
    "input = cv.imread('./image_examples/elephant.jpg')\n",
    "\n",
    "#to display our image variable \n",
    "# The first parameter will be title shown on the image window\n",
    "# the second parameter is the variable\n",
    "cv.imshow('Test Image', input)\n",
    "\n",
    "# It allows us to input info when an image window is open\n",
    "# By leaving it blank it just waits for anykey to be pressed before \n",
    "# except for 0\n",
    "cv.waitKey()\n",
    "\n",
    "#This closes all the window which have opened or failed to close\n",
    "cv.destroyAllWindows()"
   ]
  },
  {
   "cell_type": "code",
   "execution_count": 12,
   "metadata": {},
   "outputs": [
    {
     "name": "stdout",
     "output_type": "stream",
     "text": [
      "(519, 778, 3)\n"
     ]
    }
   ],
   "source": [
    "# how images are stored\n",
    "print(input.shape)"
   ]
  },
  {
   "cell_type": "code",
   "execution_count": 16,
   "metadata": {},
   "outputs": [
    {
     "name": "stdout",
     "output_type": "stream",
     "text": [
      "Height of Image: 519 pixels\n",
      "Weight of Image: 778 pixels\n"
     ]
    }
   ],
   "source": [
    "#printing dimensions of the image\n",
    "print('Height of Image: {} pixels'.format(int(input.shape[0])))\n",
    "print('Weight of Image: {} pixels'.format(int(input.shape[1])))"
   ]
  },
  {
   "cell_type": "code",
   "execution_count": 18,
   "metadata": {},
   "outputs": [
    {
     "data": {
      "text/plain": [
       "True"
      ]
     },
     "execution_count": 18,
     "metadata": {},
     "output_type": "execute_result"
    }
   ],
   "source": [
    "#simple use 'imwrite' function specifying the file name and the image to be saved\n",
    "cv.imwrite('elephant_output.jpg', input)\n",
    "# image created in the jpeg format"
   ]
  },
  {
   "cell_type": "code",
   "execution_count": 20,
   "metadata": {},
   "outputs": [
    {
     "data": {
      "text/plain": [
       "True"
      ]
     },
     "execution_count": 20,
     "metadata": {},
     "output_type": "execute_result"
    }
   ],
   "source": [
    "#simple use 'imwrite' function specifying the file name and the image to be saved\n",
    "cv.imwrite('elephant_output.png', input)\n",
    "# image created in the png format"
   ]
  },
  {
   "cell_type": "code",
   "execution_count": null,
   "metadata": {},
   "outputs": [],
   "source": []
  }
 ],
 "metadata": {
  "kernelspec": {
   "display_name": "Python 3",
   "language": "python",
   "name": "python3"
  },
  "language_info": {
   "codemirror_mode": {
    "name": "ipython",
    "version": 3
   },
   "file_extension": ".py",
   "mimetype": "text/x-python",
   "name": "python",
   "nbconvert_exporter": "python",
   "pygments_lexer": "ipython3",
   "version": "3.8.5"
  }
 },
 "nbformat": 4,
 "nbformat_minor": 4
}
